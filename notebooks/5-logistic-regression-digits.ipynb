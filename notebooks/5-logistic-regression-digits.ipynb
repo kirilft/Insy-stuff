{
  "cells": [
    {
      "cell_type": "markdown",
      "metadata": {
        "id": "4yl1sZxj_ePI"
      },
      "source": [
        "Demo: Logistic regression for classification of handwritten digits\n",
        "==================================================================\n",
        "\n",
        "**This is based on the course of [*This is based on the course of [Fraida Fund](https://colab.research.google.com/github/ffund/ml-notebooks/blob/master/notebooks/1-colab-tour.ipynb) for  NYU Tandon School of Engineering*](https://colab.research.google.com/github/ffund/ml-notebooks/blob/master/notebooks/1-colab-tour.ipynb) for  NYU Tandon School of Engineering**"
      ]
    },
    {
      "cell_type": "markdown",
      "metadata": {
        "id": "Z9KkBwM-_ePN"
      },
      "source": [
        "In this demo, we will explore the use of logistic regression for classification of handwritten digits. In other words, given an image of a handwritten digit, we want to classify it as a 0, 1, 2, 3, ..."
      ]
    },
    {
      "cell_type": "code",
      "execution_count": 1,
      "metadata": {
        "id": "-oCZ4zwb_ePO"
      },
      "outputs": [],
      "source": [
        "import numpy as np\n",
        "import pandas as pd\n",
        "import seaborn as sns\n",
        "import matplotlib.pyplot as plt\n",
        "from sklearn.datasets import fetch_openml\n",
        "from sklearn.model_selection import train_test_split\n",
        "from sklearn.linear_model import LogisticRegression\n",
        "from sklearn.metrics import accuracy_score\n",
        "\n",
        "from IPython.core.interactiveshell import InteractiveShell\n",
        "InteractiveShell.ast_node_interactivity = \"all\""
      ]
    },
    {
      "cell_type": "markdown",
      "metadata": {
        "id": "itj5ktyZ_ePQ"
      },
      "source": [
        "### Load the digits dataset\n",
        "\n",
        "For this demo, we will use a dataset known as [MNIST](https://en.wikipedia.org/wiki/MNIST_database). It contains 70,000 samples of handwritten digits, size-normalized and centered in a fixed-size image. Each sample is represented as a 28x28 pixel array, so there are 784 features per samples.\n",
        "\n",
        "We will start by loading the dataset using the `fetch_openml` function. This function allows us to retrieve a dataset by name from [OpenML](https://www.openml.org/), a public repository for machine learning data and experiments."
      ]
    },
    {
      "cell_type": "code",
      "execution_count": 2,
      "metadata": {
        "id": "pAQgWM3Q_ePR"
      },
      "outputs": [],
      "source": [
        "X, y = fetch_openml('mnist_784', version=1, return_X_y=True, as_frame=False)"
      ]
    },
    {
      "cell_type": "markdown",
      "metadata": {
        "id": "2MP-WTTa_ePR"
      },
      "source": [
        "We observe that the data has 784 features and we have 70,000 samples:"
      ]
    },
    {
      "cell_type": "code",
      "execution_count": 3,
      "metadata": {
        "id": "h0ln2V1x_ePS",
        "outputId": "99c22b55-0110-4ea9-bfb1-bbc6599091b2",
        "colab": {
          "base_uri": "https://localhost:8080/"
        }
      },
      "outputs": [
        {
          "output_type": "execute_result",
          "data": {
            "text/plain": [
              "(70000, 784)"
            ]
          },
          "metadata": {},
          "execution_count": 3
        }
      ],
      "source": [
        "X.shape"
      ]
    },
    {
      "cell_type": "markdown",
      "metadata": {
        "id": "Pcl3Q5aW_ePT"
      },
      "source": [
        "The target variables is a label for each digit: 0, 1, 2, 3, 4, 5, 6, 7, 8, 9. There are 6000-8000 samples for each class."
      ]
    },
    {
      "cell_type": "code",
      "execution_count": 4,
      "metadata": {
        "id": "kvjouh65_ePT",
        "outputId": "5fd512e8-87aa-435b-faad-32b873d99e28",
        "colab": {
          "base_uri": "https://localhost:8080/"
        }
      },
      "outputs": [
        {
          "output_type": "execute_result",
          "data": {
            "text/plain": [
              "(70000,)"
            ]
          },
          "metadata": {},
          "execution_count": 4
        }
      ],
      "source": [
        "y.shape"
      ]
    },
    {
      "cell_type": "code",
      "execution_count": 5,
      "metadata": {
        "id": "i8k53Ust_ePU",
        "outputId": "09b3fca3-6d54-4cc9-dad6-4ae1530b4ea9",
        "colab": {
          "base_uri": "https://localhost:8080/"
        }
      },
      "outputs": [
        {
          "output_type": "stream",
          "name": "stdout",
          "text": [
            "['5' '0' '4' ... '4' '5' '6']\n"
          ]
        }
      ],
      "source": [
        "print(y)"
      ]
    },
    {
      "cell_type": "code",
      "execution_count": 6,
      "metadata": {
        "id": "OAXM_qYz_ePU",
        "outputId": "13e20879-1873-4404-a560-8cf00e305dfa",
        "colab": {
          "base_uri": "https://localhost:8080/",
          "height": 398
        }
      },
      "outputs": [
        {
          "output_type": "execute_result",
          "data": {
            "text/plain": [
              "1    7877\n",
              "7    7293\n",
              "3    7141\n",
              "2    6990\n",
              "9    6958\n",
              "0    6903\n",
              "6    6876\n",
              "8    6825\n",
              "4    6824\n",
              "5    6313\n",
              "Name: count, dtype: int64"
            ],
            "text/html": [
              "<div>\n",
              "<style scoped>\n",
              "    .dataframe tbody tr th:only-of-type {\n",
              "        vertical-align: middle;\n",
              "    }\n",
              "\n",
              "    .dataframe tbody tr th {\n",
              "        vertical-align: top;\n",
              "    }\n",
              "\n",
              "    .dataframe thead th {\n",
              "        text-align: right;\n",
              "    }\n",
              "</style>\n",
              "<table border=\"1\" class=\"dataframe\">\n",
              "  <thead>\n",
              "    <tr style=\"text-align: right;\">\n",
              "      <th></th>\n",
              "      <th>count</th>\n",
              "    </tr>\n",
              "  </thead>\n",
              "  <tbody>\n",
              "    <tr>\n",
              "      <th>1</th>\n",
              "      <td>7877</td>\n",
              "    </tr>\n",
              "    <tr>\n",
              "      <th>7</th>\n",
              "      <td>7293</td>\n",
              "    </tr>\n",
              "    <tr>\n",
              "      <th>3</th>\n",
              "      <td>7141</td>\n",
              "    </tr>\n",
              "    <tr>\n",
              "      <th>2</th>\n",
              "      <td>6990</td>\n",
              "    </tr>\n",
              "    <tr>\n",
              "      <th>9</th>\n",
              "      <td>6958</td>\n",
              "    </tr>\n",
              "    <tr>\n",
              "      <th>0</th>\n",
              "      <td>6903</td>\n",
              "    </tr>\n",
              "    <tr>\n",
              "      <th>6</th>\n",
              "      <td>6876</td>\n",
              "    </tr>\n",
              "    <tr>\n",
              "      <th>8</th>\n",
              "      <td>6825</td>\n",
              "    </tr>\n",
              "    <tr>\n",
              "      <th>4</th>\n",
              "      <td>6824</td>\n",
              "    </tr>\n",
              "    <tr>\n",
              "      <th>5</th>\n",
              "      <td>6313</td>\n",
              "    </tr>\n",
              "  </tbody>\n",
              "</table>\n",
              "</div><br><label><b>dtype:</b> int64</label>"
            ]
          },
          "metadata": {},
          "execution_count": 6
        }
      ],
      "source": [
        "pd.Series(y).value_counts()"
      ]
    },
    {
      "cell_type": "code",
      "execution_count": 7,
      "metadata": {
        "id": "S1xOelYP_ePV"
      },
      "outputs": [],
      "source": [
        "classes = ['0', '1', '2','3', '4','5', '6', '7', '8', '9']\n",
        "nclasses = len(classes)"
      ]
    },
    {
      "cell_type": "markdown",
      "metadata": {
        "id": "mdB_a1Bu_ePV"
      },
      "source": [
        "Each “feature” represents a pixel in the image, and each pixel can take on any integer value from 0 to 255. A large value for a pixel means that there is writing in that part of the image."
      ]
    },
    {
      "cell_type": "markdown",
      "metadata": {
        "id": "tXJ5AGGf_ePW"
      },
      "source": [
        "We can see a few examples, by plotting the 784 features as a 28x28 grid. In these images, white pixels indicate high values in the feature matrix."
      ]
    },
    {
      "cell_type": "code",
      "execution_count": 8,
      "metadata": {
        "id": "Kqz4szu5_ePW",
        "outputId": "080d343e-30ed-4e70-ad44-990ab59635ca",
        "colab": {
          "base_uri": "https://localhost:8080/",
          "height": 884
        }
      },
      "outputs": [
        {
          "output_type": "display_data",
          "data": {
            "text/plain": [
              "<Figure size 2000x1100 with 50 Axes>"
            ],
            "image/png": "[encoded data removed]"
          },
          "metadata": {}
        }
      ],
      "source": [
        "samples_per_class = 5\n",
        "figure = plt.figure(figsize=(nclasses*2,(1+samples_per_class*2)));\n",
        "\n",
        "for idx_cls, cls in enumerate(classes):\n",
        "  idxs = np.flatnonzero(y == cls)\n",
        "  idxs = np.random.choice(idxs, samples_per_class, replace=False)\n",
        "  for i, idx in enumerate(idxs):\n",
        "    plt_idx = i * nclasses + idx_cls + 1\n",
        "    p = plt.subplot(samples_per_class, nclasses, plt_idx);\n",
        "    p = sns.heatmap(np.reshape(X[idx], (28,28)), cmap=plt.cm.gray,\n",
        "             xticklabels=False, yticklabels=False, cbar=False);\n",
        "    p = plt.axis('off');"
      ]
    },
    {
      "cell_type": "markdown",
      "metadata": {
        "id": "IB4PlX6V_ePX"
      },
      "source": [
        "### Prepare data\n",
        "\n",
        "Next, we will split our data into a test and training set.\n",
        "\n",
        "We can use `train_test_split` from `sklearn.model_selection` to split the data."
      ]
    },
    {
      "cell_type": "markdown",
      "metadata": {
        "id": "G-CuyDP6_ePX"
      },
      "source": [
        "Since the dataset is very large, it can take a long time to train a classifier on it. We just want to use it to demonstrate some useful concepts, so we will work with a smaller subset of the dataset. When we split the data using the `train_test_split` function, we will specify that we want 7,500 samples in the training set and 2,500 samples in the test set."
      ]
    },
    {
      "cell_type": "code",
      "execution_count": 9,
      "metadata": {
        "id": "a5Jq52qo_ePX"
      },
      "outputs": [],
      "source": [
        "X_train, X_test, y_train, y_test = train_test_split(X, y, random_state=9,\n",
        "                                     train_size=7500, test_size=2500)"
      ]
    },
    {
      "cell_type": "markdown",
      "metadata": {
        "id": "qL-niQ3F_ePY"
      },
      "source": [
        "We’l also scale the data so that each feature takes on a value between 0 and 1."
      ]
    },
    {
      "cell_type": "code",
      "execution_count": 10,
      "metadata": {
        "id": "U3sjbnGT_ePY"
      },
      "outputs": [],
      "source": [
        "X_train_scaled = X_train/255.0\n",
        "X_test_scaled = X_test/255.0"
      ]
    },
    {
      "cell_type": "markdown",
      "metadata": {
        "id": "L7ijDPmL_ePY"
      },
      "source": [
        "### Train a classifier using logistic regression\n",
        "\n",
        "Finally, we are ready to train a classifier. We will use `sklearn`'s [LogisticRegression](https://scikit-learn.org/stable/modules/generated/sklearn.linear_model.LogisticRegression.html).\n",
        "\n",
        "Unlike the linear regression, there is no closed form solution to the least squares parameter estimate in logistic regression. Therefore, we need to use a “solver” which finds a numerical solution. Several solvers are available for use with `sklearn`'s `LogisticRegression`, but they don’t all support all varieties of logistic regression.\n",
        "\n",
        "We will use the `saga` solver, which\n",
        "\n",
        "-   works well when there is a large number of samples,\n",
        "-   supports logistic regression with no regularization penalty, L1 penalty, L2 penalty, or ElasticNet (which uses both penalties),\n",
        "-   and also supports multinomial regression with multiple classes, using the softmax function.\n",
        "\n",
        "In addition to specifying which solver we want to use, we also specify a tolerance, which gives stopping criteria for the solver. A higher tolerance will finish faster, but may not find the optimal solution."
      ]
    },
    {
      "cell_type": "code",
      "execution_count": 12,
      "metadata": {
        "id": "OxXS_S_x_ePY",
        "outputId": "83481a83-ba13-4fc6-94f6-8a40752d5624",
        "colab": {
          "base_uri": "https://localhost:8080/"
        }
      },
      "outputs": [
        {
          "output_type": "stream",
          "name": "stderr",
          "text": [
            "/usr/local/lib/python3.11/dist-packages/sklearn/linear_model/_logistic.py:1247: FutureWarning: 'multi_class' was deprecated in version 1.5 and will be removed in 1.7. From then on, it will always use 'multinomial'. Leave it to its default value to avoid this warning.\n",
            "  warnings.warn(\n"
          ]
        }
      ],
      "source": [
        "clf = LogisticRegression(penalty='l2',\n",
        "                         tol=0.1, solver='saga',\n",
        "                         multi_class='multinomial').fit(X_train_scaled, y_train)"
      ]
    },
    {
      "cell_type": "markdown",
      "metadata": {
        "id": "Ix027SOy_ePZ"
      },
      "source": [
        "Once the classifier has been trained (fitted), we can get the coefficient values.\n",
        "\n",
        "We had 784 features - one for each pixel - so we will have 784 coefficients. Furthermore, we have 10 classes, so we will have a vector of 784 coefficients for each of the 10 classes.\n",
        "\n",
        "Therefore, our coefficient matrix has 10 rows and 784 columns:"
      ]
    },
    {
      "cell_type": "code",
      "execution_count": 13,
      "metadata": {
        "id": "soXL3omm_ePZ",
        "outputId": "57a51c17-84d0-4adb-ba62-6f0c19d8590e",
        "colab": {
          "base_uri": "https://localhost:8080/"
        }
      },
      "outputs": [
        {
          "output_type": "execute_result",
          "data": {
            "text/plain": [
              "(10, 784)"
            ]
          },
          "metadata": {},
          "execution_count": 13
        }
      ],
      "source": [
        "clf.coef_.shape"
      ]
    },
    {
      "cell_type": "markdown",
      "metadata": {
        "id": "ZVExu9h0_ePZ"
      },
      "source": [
        "### Interpret the coefficients of the logistic regression"
      ]
    },
    {
      "cell_type": "markdown",
      "metadata": {
        "id": "Rm8figpV_ePZ"
      },
      "source": [
        "One benefit of logistic regression is its interpretability - we can use the coefficient values to understand what features (i.e. which pixels) are important in determining what class a sample belongs to."
      ]
    },
    {
      "cell_type": "markdown",
      "metadata": {
        "id": "k6vz5oYq_ePa"
      },
      "source": [
        "The following plot shows the coefficient vector for each class, with positive coefficients in blue and negative coefficients in red."
      ]
    },
    {
      "cell_type": "code",
      "execution_count": 14,
      "metadata": {
        "id": "vonZw6rI_ePa",
        "outputId": "fb684100-2ba1-45bd-a51f-de88cc60aecb",
        "colab": {
          "base_uri": "https://localhost:8080/",
          "height": 206
        }
      },
      "outputs": [
        {
          "output_type": "display_data",
          "data": {
            "text/plain": [
              "<Figure size 2500x250 with 10 Axes>"
            ],
            "image/png": "[encoded data removed]"
          },
          "metadata": {}
        }
      ],
      "source": [
        "scale = np.max(np.abs(clf.coef_))\n",
        "\n",
        "p = plt.figure(figsize=(25, 2.5));\n",
        "\n",
        "for i in range(nclasses):\n",
        "    p = plt.subplot(1, nclasses, i + 1)\n",
        "    p = plt.imshow(clf.coef_[i].reshape(28, 28),\n",
        "                  cmap=plt.cm.RdBu, vmin=-scale, vmax=scale);\n",
        "    p = plt.axis('off')\n",
        "    p = plt.title('Class %i' % i);"
      ]
    },
    {
      "cell_type": "markdown",
      "metadata": {
        "id": "AhrNgdGv_ePa"
      },
      "source": [
        "We can see which pixels are positively associated with belonging to the class, and which pixels are negatively associated with belonging to the class.\n",
        "\n",
        "For example, consider Class 0. If a sample has large values in the pixels shown in blue (the 0 shape around the center of the image), the probability of that sample being a 0 digit increases. If the sample has large values in the pixels in the center of the image, the probability of the sample being a 0 digit decreases.\n",
        "\n",
        "Many pixels have coefficients whose magnitude are very small. These are shown in white, and they are not very important for this classification task."
      ]
    },
    {
      "cell_type": "markdown",
      "metadata": {
        "id": "DWF88dUk_ePa"
      },
      "source": [
        "### Use a fitted logistic regression"
      ]
    },
    {
      "cell_type": "markdown",
      "metadata": {
        "id": "cD6JeT3A_ePa"
      },
      "source": [
        "Given the coefficient matrix, we can get the per-class probability for any sample."
      ]
    },
    {
      "cell_type": "markdown",
      "metadata": {
        "id": "Ue_ja8y__ePb"
      },
      "source": [
        "We know that for logistic regression with the softmax function, the conditional probability of a sample belonging to class $k$ is given by:\n",
        "\n",
        "$$P(y=k | \\mathbf{x}) = \\frac{e^{z_k}}{\\sum_{\\ell=1}^K e^{z_\\ell}}$$\n",
        "\n",
        "where $z_{k} = w_k x$.\n",
        "\n",
        "($w_k$ is the weight vector for class $k$, and $x$ includes a 1s column so that the intercept can be included in the weight matrix.)"
      ]
    },
    {
      "cell_type": "markdown",
      "metadata": {
        "id": "_s2rj7BD_ePb"
      },
      "source": [
        "As an example, let’s look at a specific test sample:"
      ]
    },
    {
      "cell_type": "code",
      "execution_count": 15,
      "metadata": {
        "id": "LSQZZUV-_ePb"
      },
      "outputs": [],
      "source": [
        "sample_idx = 33"
      ]
    },
    {
      "cell_type": "code",
      "execution_count": 16,
      "metadata": {
        "id": "S1f-JgRp_ePb",
        "outputId": "091c78c5-c273-4939-b930-39018d6f59c4",
        "colab": {
          "base_uri": "https://localhost:8080/",
          "height": 449
        }
      },
      "outputs": [
        {
          "output_type": "display_data",
          "data": {
            "text/plain": [
              "<Figure size 640x480 with 1 Axes>"
            ],
            "image/png": "[encoded data removed]"
          },
          "metadata": {}
        }
      ],
      "source": [
        "plt.imshow(X_test_scaled[sample_idx].reshape(28,28), cmap='gray');\n",
        "plt.title('Label: %s\\n' % y_test[sample_idx]);\n",
        "plt.axis('off');"
      ]
    },
    {
      "cell_type": "markdown",
      "metadata": {
        "id": "EQ8GC-uk_ePb"
      },
      "source": [
        "We’l compute $z_k$ for each class $k$:"
      ]
    },
    {
      "cell_type": "code",
      "execution_count": 17,
      "metadata": {
        "id": "uaRrP_KI_ePc",
        "outputId": "207b8f3d-6484-47cd-8906-dab846e01971",
        "colab": {
          "base_uri": "https://localhost:8080/"
        }
      },
      "outputs": [
        {
          "output_type": "execute_result",
          "data": {
            "text/plain": [
              "[-2.7142622620233645,\n",
              " -4.501733661505883,\n",
              " 3.0609206902855703,\n",
              " -0.03909159795090128,\n",
              " 2.1661668329864594,\n",
              " -1.974809425553267,\n",
              " -0.3010100956674433,\n",
              " 2.0431115322279374,\n",
              " -1.2731486931027163,\n",
              " 3.533856680303608]"
            ]
          },
          "metadata": {},
          "execution_count": 17
        }
      ],
      "source": [
        "z = [ clf.intercept_[k] + np.dot(clf.coef_[k], X_test_scaled[sample_idx]) for k in range(10) ]\n",
        "z"
      ]
    },
    {
      "cell_type": "markdown",
      "metadata": {
        "id": "4gaQWndg_ePc"
      },
      "source": [
        "Then, we can compute the conditional probability for each class, for this sample:"
      ]
    },
    {
      "cell_type": "code",
      "execution_count": 18,
      "metadata": {
        "id": "lxNevcGw_ePc",
        "outputId": "c8f9bd26-cc60-4626-d7ce-5a61bd9da83a",
        "colab": {
          "base_uri": "https://localhost:8080/"
        }
      },
      "outputs": [
        {
          "output_type": "execute_result",
          "data": {
            "text/plain": [
              "array([8.92425098e-04, 1.49376683e-04, 2.87542380e-01, 1.29533957e-02,\n",
              "       1.17520925e-01, 1.86944229e-03, 9.96859323e-03, 1.03913737e-01,\n",
              "       3.77085164e-03, 4.61418873e-01])"
            ]
          },
          "metadata": {},
          "execution_count": 18
        }
      ],
      "source": [
        "exps = [np.exp(z[k]) for k in range(10)]\n",
        "exps_sum = np.sum(exps)\n",
        "probs = exps/exps_sum\n",
        "probs"
      ]
    },
    {
      "cell_type": "markdown",
      "metadata": {
        "id": "7gLP0wGg_ePj"
      },
      "source": [
        "Here, the first entry is the probability of belonging to class 0 (i.e. having the label '0'), the second entry is the probability of belonging to class 1, etc."
      ]
    },
    {
      "cell_type": "code",
      "execution_count": 19,
      "metadata": {
        "id": "7fZ89b3t_ePj",
        "outputId": "184e061a-2e59-4109-fd0b-6c9c1e51d15e",
        "colab": {
          "base_uri": "https://localhost:8080/",
          "height": 449
        }
      },
      "outputs": [
        {
          "output_type": "display_data",
          "data": {
            "text/plain": [
              "<Figure size 640x480 with 1 Axes>"
            ],
            "image/png": "[encoded data removed]"
          },
          "metadata": {}
        }
      ],
      "source": [
        "sns.barplot(x=np.arange(0,10), y=probs);\n",
        "plt.ylabel(\"Probability\");\n",
        "plt.xlabel(\"Class\");"
      ]
    },
    {
      "cell_type": "markdown",
      "metadata": {
        "id": "5XXKtwVF_ePj"
      },
      "source": [
        "In general, to get the predicted *label*, we can find the class with the highest probability:"
      ]
    },
    {
      "cell_type": "code",
      "execution_count": 20,
      "metadata": {
        "id": "ZIB_O6GG_ePk",
        "outputId": "7322973f-be5d-425c-8167-26a78f16f0dc",
        "colab": {
          "base_uri": "https://localhost:8080/",
          "height": 35
        }
      },
      "outputs": [
        {
          "output_type": "execute_result",
          "data": {
            "text/plain": [
              "'9'"
            ],
            "application/vnd.google.colaboratory.intrinsic+json": {
              "type": "string"
            }
          },
          "metadata": {},
          "execution_count": 20
        }
      ],
      "source": [
        "idx_cls = np.argmax(probs)\n",
        "classes[idx_cls]"
      ]
    },
    {
      "cell_type": "markdown",
      "metadata": {
        "id": "4DhQnBkc_ePk"
      },
      "source": [
        "*If* this matches the actual label for the first test sample, then our prediction is correct."
      ]
    },
    {
      "cell_type": "code",
      "execution_count": 21,
      "metadata": {
        "id": "RlbVBB3a_ePk",
        "outputId": "13ba4ead-5682-4388-8673-82db1f358dfc",
        "colab": {
          "base_uri": "https://localhost:8080/",
          "height": 35
        }
      },
      "outputs": [
        {
          "output_type": "execute_result",
          "data": {
            "text/plain": [
              "'4'"
            ],
            "application/vnd.google.colaboratory.intrinsic+json": {
              "type": "string"
            }
          },
          "metadata": {},
          "execution_count": 21
        }
      ],
      "source": [
        "y_test[sample_idx]"
      ]
    },
    {
      "cell_type": "markdown",
      "metadata": {
        "id": "mNc6Sqeo_ePk"
      },
      "source": [
        "The `LogisticRegression` implementation in `sklearn` includes functions to compute both the per-class probability, and the most likely label."
      ]
    },
    {
      "cell_type": "markdown",
      "metadata": {
        "id": "Rq0-gV2R_ePl"
      },
      "source": [
        "We can use the `predict_proba` function on the logistic regression to get these probabilities. For each sample, it returns 10 probabilities - one for each of the ten classes (i.e. each value of $k$)."
      ]
    },
    {
      "cell_type": "code",
      "execution_count": 22,
      "metadata": {
        "id": "v9lF2dIC_ePl"
      },
      "outputs": [],
      "source": [
        "y_pred_prob = clf.predict_proba(X_test_scaled)"
      ]
    },
    {
      "cell_type": "markdown",
      "metadata": {
        "id": "PXU3zeml_ePl"
      },
      "source": [
        "Let’s look at our example test point, and compare to our own computations:"
      ]
    },
    {
      "cell_type": "code",
      "execution_count": 23,
      "metadata": {
        "id": "TNbpkmGH_ePl",
        "outputId": "13f45ff6-9d90-4e85-90e8-0d9d31315d1c",
        "colab": {
          "base_uri": "https://localhost:8080/"
        }
      },
      "outputs": [
        {
          "output_type": "execute_result",
          "data": {
            "text/plain": [
              "array([8.92425098e-04, 1.49376683e-04, 2.87542380e-01, 1.29533957e-02,\n",
              "       1.17520925e-01, 1.86944229e-03, 9.96859323e-03, 1.03913737e-01,\n",
              "       3.77085164e-03, 4.61418873e-01])"
            ]
          },
          "metadata": {},
          "execution_count": 23
        }
      ],
      "source": [
        "y_pred_prob[sample_idx]"
      ]
    },
    {
      "cell_type": "markdown",
      "metadata": {
        "id": "SCI4UMmb_ePl"
      },
      "source": [
        "We use the `predict` function to predict a label for each sample in the test set. This will return the class label with the highest probability.\n",
        "\n",
        "For our test sample, the prediction is:"
      ]
    },
    {
      "cell_type": "code",
      "execution_count": 24,
      "metadata": {
        "id": "zN7krRCi_ePm"
      },
      "outputs": [],
      "source": [
        "y_pred = clf.predict(X_test_scaled)"
      ]
    },
    {
      "cell_type": "code",
      "execution_count": 25,
      "metadata": {
        "id": "djfPP346_ePm",
        "outputId": "854fbea6-77f0-4a46-d935-b4bb62478d05",
        "colab": {
          "base_uri": "https://localhost:8080/",
          "height": 35
        }
      },
      "outputs": [
        {
          "output_type": "execute_result",
          "data": {
            "text/plain": [
              "'9'"
            ],
            "application/vnd.google.colaboratory.intrinsic+json": {
              "type": "string"
            }
          },
          "metadata": {},
          "execution_count": 25
        }
      ],
      "source": [
        "y_pred[sample_idx]"
      ]
    },
    {
      "cell_type": "markdown",
      "metadata": {
        "id": "xA6ue5zF_ePm"
      },
      "source": [
        "and the true value is:"
      ]
    },
    {
      "cell_type": "code",
      "execution_count": 26,
      "metadata": {
        "id": "-bu5GdxQ_ePm",
        "outputId": "fce0636d-7305-4974-bdcc-9cd41eba3c2c",
        "colab": {
          "base_uri": "https://localhost:8080/",
          "height": 35
        }
      },
      "outputs": [
        {
          "output_type": "execute_result",
          "data": {
            "text/plain": [
              "'4'"
            ],
            "application/vnd.google.colaboratory.intrinsic+json": {
              "type": "string"
            }
          },
          "metadata": {},
          "execution_count": 26
        }
      ],
      "source": [
        "y_test[sample_idx]"
      ]
    },
    {
      "cell_type": "markdown",
      "metadata": {
        "id": "FkitklRc_ePn"
      },
      "source": [
        "### Evaluate classifier performance"
      ]
    },
    {
      "cell_type": "markdown",
      "metadata": {
        "id": "ad0T5lRc_ePn"
      },
      "source": [
        "The first important metric is the accuracy - what percent of predicted labels are the same as the true labels?"
      ]
    },
    {
      "cell_type": "markdown",
      "metadata": {
        "id": "71fzTSBP_ePn"
      },
      "source": [
        "There are a few ways to compute this value -"
      ]
    },
    {
      "cell_type": "code",
      "execution_count": 28,
      "metadata": {
        "id": "NcNHSHZX_ePn",
        "outputId": "ce0d2bef-acf3-49e1-8b72-7487a6bfc1d1",
        "colab": {
          "base_uri": "https://localhost:8080/"
        }
      },
      "outputs": [
        {
          "output_type": "stream",
          "name": "stdout",
          "text": [
            "0.908\n"
          ]
        }
      ],
      "source": [
        "accuracy =  np.mean(y_test == y_pred)\n",
        "print(accuracy)"
      ]
    },
    {
      "cell_type": "code",
      "execution_count": 29,
      "metadata": {
        "id": "P34VuXCo_ePo",
        "outputId": "9e381cde-9d82-425c-91c3-c2eeaa15c19b",
        "colab": {
          "base_uri": "https://localhost:8080/"
        }
      },
      "outputs": [
        {
          "output_type": "stream",
          "name": "stdout",
          "text": [
            "0.908\n"
          ]
        }
      ],
      "source": [
        "accuracy = accuracy_score(y_test, y_pred)\n",
        "print(accuracy)"
      ]
    },
    {
      "cell_type": "code",
      "execution_count": 30,
      "metadata": {
        "id": "cT2pf4DV_ePo",
        "outputId": "ebc09a0a-f6c2-4010-c9e1-668658f1e731",
        "colab": {
          "base_uri": "https://localhost:8080/"
        }
      },
      "outputs": [
        {
          "output_type": "stream",
          "name": "stdout",
          "text": [
            "0.908\n"
          ]
        }
      ],
      "source": [
        "accuracy = clf.score(X_test_scaled, y_test)\n",
        "print(accuracy)"
      ]
    },
    {
      "cell_type": "markdown",
      "metadata": {
        "id": "_w31OlHF_ePo"
      },
      "source": [
        "What about other important metrics?\n",
        "\n",
        "For a binary classifier, we also care about\n",
        "\n",
        "-   The number of true positive (TP) outputs - samples from the positive class that are predicted as positive\n",
        "-   The number of true negative (TN) outputs - samples from the negative class that are predicted as negative\n",
        "-   The number of false positive (FP) outputs - samples from the negative class that are predicted as positive, and\n",
        "-   The number of false negative (FN) outputs - samples from the positive class that are predicted as negative."
      ]
    },
    {
      "cell_type": "markdown",
      "metadata": {
        "id": "toI9C2v__ePo"
      },
      "source": [
        "These are often presented together in a confusion matrix."
      ]
    },
    {
      "cell_type": "markdown",
      "metadata": {
        "id": "CeiRYZwB_ePp"
      },
      "source": [
        "For a multi-class problem, we can extend the confusion matrix to have more rows and columns. The diagonal of the multi-class confusion matrix shows the number of correct classifications for each class, and other entries show instances where a sample from one class was mistakenly assigned a different class label."
      ]
    },
    {
      "cell_type": "markdown",
      "metadata": {
        "id": "MW-1LIM0_ePp"
      },
      "source": [
        "We can create a confusion matrix using the `pandas` library's `crosstab` function."
      ]
    },
    {
      "cell_type": "code",
      "execution_count": 31,
      "metadata": {
        "id": "s3QxdTwZ_ePp",
        "outputId": "67682326-4fd7-4d0f-d890-124061d43fa3",
        "colab": {
          "base_uri": "https://localhost:8080/",
          "height": 850
        }
      },
      "outputs": [
        {
          "output_type": "display_data",
          "data": {
            "text/plain": [
              "<Figure size 1000x1000 with 1 Axes>"
            ],
            "image/png": "[encoded data removed]"
          },
          "metadata": {}
        }
      ],
      "source": [
        "cm = pd.crosstab(y_test, y_pred,\n",
        "                               rownames=['Actual'], colnames=['Predicted'])\n",
        "p = plt.figure(figsize=(10,10));\n",
        "p = sns.heatmap(cm, annot=True, fmt=\"d\", cbar=False)"
      ]
    },
    {
      "cell_type": "markdown",
      "metadata": {
        "id": "aesiqG4t_ePp"
      },
      "source": [
        "Here's a version that is slightly easier to interpret - we have normalized the confusion matrix by row, so that the entries on the diagonal show the accuracy per class."
      ]
    },
    {
      "cell_type": "code",
      "execution_count": 32,
      "metadata": {
        "id": "hJTlH7cx_ePp",
        "outputId": "2b92e11f-96f6-48d7-dcca-6a2297ddb4ae",
        "colab": {
          "base_uri": "https://localhost:8080/",
          "height": 850
        }
      },
      "outputs": [
        {
          "output_type": "display_data",
          "data": {
            "text/plain": [
              "<Figure size 1000x1000 with 1 Axes>"
            ],
            "image/png": "[encoded data removed]"
          },
          "metadata": {}
        }
      ],
      "source": [
        "cm = pd.crosstab(y_test, y_pred,\n",
        "                               rownames=['Actual'], colnames=['Predicted'], normalize='index')\n",
        "p = plt.figure(figsize=(10,10));\n",
        "p = sns.heatmap(cm, annot=True, fmt=\".2f\", cbar=False)"
      ]
    },
    {
      "cell_type": "markdown",
      "metadata": {
        "id": "D5Num_GN_ePq"
      },
      "source": [
        "We can see that the digits 0, 1, 4 are easiest for the logistic regression to classify, while the digits 8, 5, 2, and 3 are more difficult (because the classification accuracy was less for these digits).\n",
        "\n",
        "We can also see which digits are easily confused with one another. For example, we can see that some 8s are misclassified as 1s, and some 5s are misclassified as 8s."
      ]
    },
    {
      "cell_type": "markdown",
      "metadata": {
        "id": "46smxvKh_ePq"
      },
      "source": [
        "### Try your own image"
      ]
    },
    {
      "cell_type": "markdown",
      "metadata": {
        "id": "aYPdiC9H_ePq"
      },
      "source": [
        "On a plain white piece of paper, in a black or other dark-colored pen or pencil, write a digit of your choice from 0 to 9. Take a photo of your handwritten digit.\n",
        "\n",
        "Edit your photo (crop, rotate as needed), using a photo editor of your choice (I used Google Photos), so that your photo is approximately square, and includes only the digit and the white background. Leave a small margin around the edge of the writing, but not too much. Your edited photo should look similar to the MNIST images in the demo notebook.\n",
        "\n",
        "For example:\n",
        "\n",
        "<img src=\"https://i.ibb.co/RzLP8nm/20200710-115731.jpg\" alt=\"A handwritten '8'\" width=200/>"
      ]
    },
    {
      "cell_type": "markdown",
      "metadata": {
        "id": "Q8kKYcWG_ePq"
      },
      "source": [
        "Run the following cell. Click “Choose files”, and upload the photo of your handwritten digit."
      ]
    },
    {
      "cell_type": "code",
      "execution_count": 33,
      "metadata": {
        "id": "KHqXTKgj_ePr",
        "outputId": "01c15c65-06d7-4b09-f93b-a7f9f906fdaa",
        "colab": {
          "base_uri": "https://localhost:8080/",
          "height": 90
        }
      },
      "outputs": [
        {
          "output_type": "display_data",
          "data": {
            "text/plain": [
              "<IPython.core.display.HTML object>"
            ],
            "text/html": [
              "\n",
              "     <input type=\"file\" id=\"files-7c96928c-c9be-4fc5-af8f-24aefa1bd7a9\" name=\"files[]\" multiple disabled\n",
              "        style=\"border:none\" />\n",
              "     <output id=\"result-7c96928c-c9be-4fc5-af8f-24aefa1bd7a9\">\n",
              "      Upload widget is only available when the cell has been executed in the\n",
              "      current browser session. Please rerun this cell to enable.\n",
              "      </output>\n",
              "      <script>// Copyright 2017 Google LLC\n",
              "//\n",
              "// Licensed under the Apache License, Version 2.0 (the \"License\");\n",
              "// you may not use this file except in compliance with the License.\n",
              "// You may obtain a copy of the License at\n",
              "//\n",
              "//      http://www.apache.org/licenses/LICENSE-2.0\n",
              "//\n",
              "// Unless required by applicable law or agreed to in writing, software\n",
              "// distributed under the License is distributed on an \"AS IS\" BASIS,\n",
              "// WITHOUT WARRANTIES OR CONDITIONS OF ANY KIND, either express or implied.\n",
              "// See the License for the specific language governing permissions and\n",
              "// limitations under the License.\n",
              "\n",
              "/**\n",
              " * @fileoverview Helpers for google.colab Python module.\n",
              " */\n",
              "(function(scope) {\n",
              "function span(text, styleAttributes = {}) {\n",
              "  const element = document.createElement('span');\n",
              "  element.textContent = text;\n",
              "  for (const key of Object.keys(styleAttributes)) {\n",
              "    element.style[key] = styleAttributes[key];\n",
              "  }\n",
              "  return element;\n",
              "}\n",
              "\n",
              "// Max number of bytes which will be uploaded at a time.\n",
              "const MAX_PAYLOAD_SIZE = 100 * 1024;\n",
              "\n",
              "function _uploadFiles(inputId, outputId) {\n",
              "  const steps = uploadFilesStep(inputId, outputId);\n",
              "  const outputElement = document.getElementById(outputId);\n",
              "  // Cache steps on the outputElement to make it available for the next call\n",
              "  // to uploadFilesContinue from Python.\n",
              "  outputElement.steps = steps;\n",
              "\n",
              "  return _uploadFilesContinue(outputId);\n",
              "}\n",
              "\n",
              "// This is roughly an async generator (not supported in the browser yet),\n",
              "// where there are multiple asynchronous steps and the Python side is going\n",
              "// to poll for completion of each step.\n",
              "// This uses a Promise to block the python side on completion of each step,\n",
              "// then passes the result of the previous step as the input to the next step.\n",
              "function _uploadFilesContinue(outputId) {\n",
              "  const outputElement = document.getElementById(outputId);\n",
              "  const steps = outputElement.steps;\n",
              "\n",
              "  const next = steps.next(outputElement.lastPromiseValue);\n",
              "  return Promise.resolve(next.value.promise).then((value) => {\n",
              "    // Cache the last promise value to make it available to the next\n",
              "    // step of the generator.\n",
              "    outputElement.lastPromiseValue = value;\n",
              "    return next.value.response;\n",
              "  });\n",
              "}\n",
              "\n",
              "/**\n",
              " * Generator function which is called between each async step of the upload\n",
              " * process.\n",
              " * @param {string} inputId Element ID of the input file picker element.\n",
              " * @param {string} outputId Element ID of the output display.\n",
              " * @return {!Iterable<!Object>} Iterable of next steps.\n",
              " */\n",
              "function* uploadFilesStep(inputId, outputId) {\n",
              "  const inputElement = document.getElementById(inputId);\n",
              "  inputElement.disabled = false;\n",
              "\n",
              "  const outputElement = document.getElementById(outputId);\n",
              "  outputElement.innerHTML = '';\n",
              "\n",
              "  const pickedPromise = new Promise((resolve) => {\n",
              "    inputElement.addEventListener('change', (e) => {\n",
              "      resolve(e.target.files);\n",
              "    });\n",
              "  });\n",
              "\n",
              "  const cancel = document.createElement('button');\n",
              "  inputElement.parentElement.appendChild(cancel);\n",
              "  cancel.textContent = 'Cancel upload';\n",
              "  const cancelPromise = new Promise((resolve) => {\n",
              "    cancel.onclick = () => {\n",
              "      resolve(null);\n",
              "    };\n",
              "  });\n",
              "\n",
              "  // Wait for the user to pick the files.\n",
              "  const files = yield {\n",
              "    promise: Promise.race([pickedPromise, cancelPromise]),\n",
              "    response: {\n",
              "      action: 'starting',\n",
              "    }\n",
              "  };\n",
              "\n",
              "  cancel.remove();\n",
              "\n",
              "  // Disable the input element since further picks are not allowed.\n",
              "  inputElement.disabled = true;\n",
              "\n",
              "  if (!files) {\n",
              "    return {\n",
              "      response: {\n",
              "        action: 'complete',\n",
              "      }\n",
              "    };\n",
              "  }\n",
              "\n",
              "  for (const file of files) {\n",
              "    const li = document.createElement('li');\n",
              "    li.append(span(file.name, {fontWeight: 'bold'}));\n",
              "    li.append(span(\n",
              "        `(${file.type || 'n/a'}) - ${file.size} bytes, ` +\n",
              "        `last modified: ${\n",
              "            file.lastModifiedDate ? file.lastModifiedDate.toLocaleDateString() :\n",
              "                                    'n/a'} - `));\n",
              "    const percent = span('0% done');\n",
              "    li.appendChild(percent);\n",
              "\n",
              "    outputElement.appendChild(li);\n",
              "\n",
              "    const fileDataPromise = new Promise((resolve) => {\n",
              "      const reader = new FileReader();\n",
              "      reader.onload = (e) => {\n",
              "        resolve(e.target.result);\n",
              "      };\n",
              "      reader.readAsArrayBuffer(file);\n",
              "    });\n",
              "    // Wait for the data to be ready.\n",
              "    let fileData = yield {\n",
              "      promise: fileDataPromise,\n",
              "      response: {\n",
              "        action: 'continue',\n",
              "      }\n",
              "    };\n",
              "\n",
              "    // Use a chunked sending to avoid message size limits. See b/62115660.\n",
              "    let position = 0;\n",
              "    do {\n",
              "      const length = Math.min(fileData.byteLength - position, MAX_PAYLOAD_SIZE);\n",
              "      const chunk = new Uint8Array(fileData, position, length);\n",
              "      position += length;\n",
              "\n",
              "      const base64 = btoa(String.fromCharCode.apply(null, chunk));\n",
              "      yield {\n",
              "        response: {\n",
              "          action: 'append',\n",
              "          file: file.name,\n",
              "          data: base64,\n",
              "        },\n",
              "      };\n",
              "\n",
              "      let percentDone = fileData.byteLength === 0 ?\n",
              "          100 :\n",
              "          Math.round((position / fileData.byteLength) * 100);\n",
              "      percent.textContent = `${percentDone}% done`;\n",
              "\n",
              "    } while (position < fileData.byteLength);\n",
              "  }\n",
              "\n",
              "  // All done.\n",
              "  yield {\n",
              "    response: {\n",
              "      action: 'complete',\n",
              "    }\n",
              "  };\n",
              "}\n",
              "\n",
              "scope.google = scope.google || {};\n",
              "scope.google.colab = scope.google.colab || {};\n",
              "scope.google.colab._files = {\n",
              "  _uploadFiles,\n",
              "  _uploadFilesContinue,\n",
              "};\n",
              "})(self);\n",
              "</script> "
            ]
          },
          "metadata": {}
        },
        {
          "output_type": "stream",
          "name": "stdout",
          "text": [
            "Saving test.png to test.png\n",
            "User uploaded file \"test.png\" with length 28462 bytes\n"
          ]
        }
      ],
      "source": [
        "from google.colab import files\n",
        "\n",
        "uploaded = files.upload()\n",
        "\n",
        "for fn in uploaded.keys():\n",
        "  print('User uploaded file \"{name}\" with length {length} bytes'.format(\n",
        "      name=fn, length=len(uploaded[fn])))"
      ]
    },
    {
      "cell_type": "markdown",
      "metadata": {
        "id": "pEw9n7mT_ePr"
      },
      "source": [
        "On the left side of the Colab window, you will see a small file folder icon, which allows you to explore the filesystem of your Colab workspace. If you click on this icon, you should see that your file has been uploaded to your Colab workspace. (You may need to use the “Refresh” button in the file browser in order to see the file.) Make a note of the file name."
      ]
    },
    {
      "cell_type": "markdown",
      "metadata": {
        "id": "ZJPn70X9_ePr"
      },
      "source": [
        "After uploading your image, run this cell, but *replace the filename* with the name of the file you have just uploaded to Colab. You shold see your image appear in the cell output."
      ]
    },
    {
      "cell_type": "code",
      "execution_count": 35,
      "metadata": {
        "id": "DnX6y4CV_ePr",
        "outputId": "4c84fd9d-d926-49c8-e7f1-295e2c71161d",
        "colab": {
          "base_uri": "https://localhost:8080/",
          "height": 452
        }
      },
      "outputs": [
        {
          "output_type": "display_data",
          "data": {
            "text/plain": [
              "<Figure size 640x480 with 1 Axes>"
            ],
            "image/png": "[encoded data removed]"
          },
          "metadata": {}
        }
      ],
      "source": [
        "from PIL import Image\n",
        "\n",
        "filename = 'test.png'\n",
        "\n",
        "image = Image.open(filename)\n",
        "p = plt.imshow(np.asarray(image), cmap=plt.cm.gray,);\n",
        "p = plt.title('Shape: ' + str(np.asarray(image).shape))"
      ]
    },
    {
      "cell_type": "markdown",
      "metadata": {
        "id": "68pEjvNH_ePs"
      },
      "source": [
        "For example:\n",
        "\n",
        "<img src=\"https://i.ibb.co/jy2Qt6Z/image.png\" alt=\"A handwritten '8' after uploading to Colab\" width=200/>"
      ]
    },
    {
      "cell_type": "markdown",
      "metadata": {
        "id": "p2C6CVdT_ePs"
      },
      "source": [
        "The images in MNIST have been pre-processed - they are converted to grayscale, and centered in a 28x28 image by computing the center of mass of the pixels, and then translating and scaling the image so as to position this point at the center of the 28x28 field.\n",
        "\n",
        "You have already done some manual pre-processing, by cropping your image before uploading. But you may have noticed from the `shape` output that your image resolution is much larger than 28x28, and you probably had three color channels (red, green, and blue).\n",
        "\n",
        "Use the code in the following cells to pre-process your image into a 28x28 image with one color channel (grayscale). You may have to manually tune the contrast for best results, by changing the `pixel_filter` value. You will want the background to be as close to pure black as possible, without affecting the legibility of the handwritten digit.\n",
        "\n",
        "(We won’t bother with centering the image, but that would probably improve the prediction performance quite a lot!)"
      ]
    },
    {
      "cell_type": "code",
      "execution_count": 40,
      "metadata": {
        "id": "NqbXMSsS_ePs",
        "outputId": "38079ad0-94ba-4e85-b13d-cccb845d5029",
        "colab": {
          "base_uri": "https://localhost:8080/",
          "height": 452
        }
      },
      "outputs": [
        {
          "output_type": "display_data",
          "data": {
            "text/plain": [
              "<Figure size 640x480 with 1 Axes>"
            ],
            "image/png": "[encoded data removed]"
          },
          "metadata": {}
        }
      ],
      "source": [
        "# convert to grayscale image - 'L' format means each pixel is\n",
        "# represented by a single value from 0 to 255\n",
        "image_bw = image.convert('L')\n",
        "p = plt.imshow(np.asarray(image_bw), cmap=plt.cm.gray,);\n",
        "p = plt.title('Shape: ' + str(np.asarray(image_bw).shape))"
      ]
    },
    {
      "cell_type": "code",
      "execution_count": 38,
      "metadata": {
        "id": "RlgJN9d4_ePt",
        "outputId": "ef283f62-1df7-4ca9-aaec-f4a3dcf27330",
        "colab": {
          "base_uri": "https://localhost:8080/",
          "height": 193
        }
      },
      "outputs": [
        {
          "output_type": "error",
          "ename": "AttributeError",
          "evalue": "module 'PIL.Image' has no attribute 'ANTIALIAS'",
          "traceback": [
            "\u001b[0;31m---------------------------------------------------------------------------\u001b[0m",
            "\u001b[0;31mAttributeError\u001b[0m                            Traceback (most recent call last)",
            "\u001b[0;32m<ipython-input-38-4cb326801e14>\u001b[0m in \u001b[0;36m<cell line: 0>\u001b[0;34m()\u001b[0m\n\u001b[1;32m      1\u001b[0m \u001b[0;31m# resize image\u001b[0m\u001b[0;34m\u001b[0m\u001b[0;34m\u001b[0m\u001b[0m\n\u001b[0;32m----> 2\u001b[0;31m \u001b[0mimage_bw_resized\u001b[0m \u001b[0;34m=\u001b[0m \u001b[0mimage_bw\u001b[0m\u001b[0;34m.\u001b[0m\u001b[0mresize\u001b[0m\u001b[0;34m(\u001b[0m\u001b[0;34m(\u001b[0m\u001b[0;36m28\u001b[0m\u001b[0;34m,\u001b[0m\u001b[0;36m28\u001b[0m\u001b[0;34m)\u001b[0m\u001b[0;34m,\u001b[0m \u001b[0mImage\u001b[0m\u001b[0;34m.\u001b[0m\u001b[0mANTIALIAS\u001b[0m\u001b[0;34m)\u001b[0m\u001b[0;34m\u001b[0m\u001b[0;34m\u001b[0m\u001b[0m\n\u001b[0m\u001b[1;32m      3\u001b[0m \u001b[0mp\u001b[0m \u001b[0;34m=\u001b[0m \u001b[0mplt\u001b[0m\u001b[0;34m.\u001b[0m\u001b[0mimshow\u001b[0m\u001b[0;34m(\u001b[0m\u001b[0mnp\u001b[0m\u001b[0;34m.\u001b[0m\u001b[0masarray\u001b[0m\u001b[0;34m(\u001b[0m\u001b[0mimage_bw_resized\u001b[0m\u001b[0;34m)\u001b[0m\u001b[0;34m,\u001b[0m \u001b[0mcmap\u001b[0m\u001b[0;34m=\u001b[0m\u001b[0mplt\u001b[0m\u001b[0;34m.\u001b[0m\u001b[0mcm\u001b[0m\u001b[0;34m.\u001b[0m\u001b[0mgray\u001b[0m\u001b[0;34m,\u001b[0m\u001b[0;34m)\u001b[0m\u001b[0;34m;\u001b[0m\u001b[0;34m\u001b[0m\u001b[0;34m\u001b[0m\u001b[0m\n\u001b[1;32m      4\u001b[0m \u001b[0mp\u001b[0m \u001b[0;34m=\u001b[0m \u001b[0mplt\u001b[0m\u001b[0;34m.\u001b[0m\u001b[0mtitle\u001b[0m\u001b[0;34m(\u001b[0m\u001b[0;34m'Shape: '\u001b[0m \u001b[0;34m+\u001b[0m \u001b[0mstr\u001b[0m\u001b[0;34m(\u001b[0m\u001b[0mnp\u001b[0m\u001b[0;34m.\u001b[0m\u001b[0masarray\u001b[0m\u001b[0;34m(\u001b[0m\u001b[0mimage_bw_resized\u001b[0m\u001b[0;34m)\u001b[0m\u001b[0;34m.\u001b[0m\u001b[0mshape\u001b[0m\u001b[0;34m)\u001b[0m\u001b[0;34m)\u001b[0m\u001b[0;34m\u001b[0m\u001b[0;34m\u001b[0m\u001b[0m\n",
            "\u001b[0;31mAttributeError\u001b[0m: module 'PIL.Image' has no attribute 'ANTIALIAS'"
          ]
        }
      ],
      "source": [
        "# resize image\n",
        "image_bw_resized = image_bw.resize((28,28), Image.ANTIALIAS)\n",
        "p = plt.imshow(np.asarray(image_bw_resized), cmap=plt.cm.gray,);\n",
        "p = plt.title('Shape: ' + str(np.asarray(image_bw_resized).shape))"
      ]
    },
    {
      "cell_type": "code",
      "execution_count": 39,
      "metadata": {
        "id": "YAT2P7jN_ePt",
        "outputId": "de1ef773-73d4-463f-95d5-48ada1016055",
        "colab": {
          "base_uri": "https://localhost:8080/",
          "height": 211
        }
      },
      "outputs": [
        {
          "output_type": "error",
          "ename": "NameError",
          "evalue": "name 'image_bw_resized' is not defined",
          "traceback": [
            "\u001b[0;31m---------------------------------------------------------------------------\u001b[0m",
            "\u001b[0;31mNameError\u001b[0m                                 Traceback (most recent call last)",
            "\u001b[0;32m<ipython-input-39-b400aa9b6503>\u001b[0m in \u001b[0;36m<cell line: 0>\u001b[0;34m()\u001b[0m\n\u001b[1;32m      2\u001b[0m \u001b[0;32mimport\u001b[0m \u001b[0mPIL\u001b[0m\u001b[0;34m.\u001b[0m\u001b[0mImageOps\u001b[0m\u001b[0;34m\u001b[0m\u001b[0;34m\u001b[0m\u001b[0m\n\u001b[1;32m      3\u001b[0m \u001b[0;34m\u001b[0m\u001b[0m\n\u001b[0;32m----> 4\u001b[0;31m \u001b[0mimage_bw_resized_inverted\u001b[0m \u001b[0;34m=\u001b[0m \u001b[0mPIL\u001b[0m\u001b[0;34m.\u001b[0m\u001b[0mImageOps\u001b[0m\u001b[0;34m.\u001b[0m\u001b[0minvert\u001b[0m\u001b[0;34m(\u001b[0m\u001b[0mimage_bw_resized\u001b[0m\u001b[0;34m)\u001b[0m\u001b[0;34m\u001b[0m\u001b[0;34m\u001b[0m\u001b[0m\n\u001b[0m\u001b[1;32m      5\u001b[0m \u001b[0mp\u001b[0m \u001b[0;34m=\u001b[0m \u001b[0mplt\u001b[0m\u001b[0;34m.\u001b[0m\u001b[0mimshow\u001b[0m\u001b[0;34m(\u001b[0m\u001b[0mnp\u001b[0m\u001b[0;34m.\u001b[0m\u001b[0masarray\u001b[0m\u001b[0;34m(\u001b[0m\u001b[0mimage_bw_resized_inverted\u001b[0m\u001b[0;34m)\u001b[0m\u001b[0;34m,\u001b[0m \u001b[0mcmap\u001b[0m\u001b[0;34m=\u001b[0m\u001b[0mplt\u001b[0m\u001b[0;34m.\u001b[0m\u001b[0mcm\u001b[0m\u001b[0;34m.\u001b[0m\u001b[0mgray\u001b[0m\u001b[0;34m,\u001b[0m\u001b[0;34m)\u001b[0m\u001b[0;34m;\u001b[0m\u001b[0;34m\u001b[0m\u001b[0;34m\u001b[0m\u001b[0m\n\u001b[1;32m      6\u001b[0m \u001b[0mp\u001b[0m \u001b[0;34m=\u001b[0m \u001b[0mplt\u001b[0m\u001b[0;34m.\u001b[0m\u001b[0mtitle\u001b[0m\u001b[0;34m(\u001b[0m\u001b[0;34m'Shape: '\u001b[0m \u001b[0;34m+\u001b[0m \u001b[0mstr\u001b[0m\u001b[0;34m(\u001b[0m\u001b[0mnp\u001b[0m\u001b[0;34m.\u001b[0m\u001b[0masarray\u001b[0m\u001b[0;34m(\u001b[0m\u001b[0mimage_bw_resized_inverted\u001b[0m\u001b[0;34m)\u001b[0m\u001b[0;34m.\u001b[0m\u001b[0mshape\u001b[0m\u001b[0;34m)\u001b[0m\u001b[0;34m)\u001b[0m\u001b[0;34m\u001b[0m\u001b[0;34m\u001b[0m\u001b[0m\n",
            "\u001b[0;31mNameError\u001b[0m: name 'image_bw_resized' is not defined"
          ]
        }
      ],
      "source": [
        "# invert image, to match training data\n",
        "import PIL.ImageOps\n",
        "\n",
        "image_bw_resized_inverted = PIL.ImageOps.invert(image_bw_resized)\n",
        "p = plt.imshow(np.asarray(image_bw_resized_inverted), cmap=plt.cm.gray,);\n",
        "p = plt.title('Shape: ' + str(np.asarray(image_bw_resized_inverted).shape))"
      ]
    },
    {
      "cell_type": "code",
      "execution_count": 41,
      "metadata": {
        "id": "s0_dnqBH_ePt",
        "outputId": "43773784-3113-4696-8573-16696c7dd2e9",
        "colab": {
          "base_uri": "https://localhost:8080/",
          "height": 211
        }
      },
      "outputs": [
        {
          "output_type": "error",
          "ename": "NameError",
          "evalue": "name 'image_bw_resized_inverted' is not defined",
          "traceback": [
            "\u001b[0;31m---------------------------------------------------------------------------\u001b[0m",
            "\u001b[0;31mNameError\u001b[0m                                 Traceback (most recent call last)",
            "\u001b[0;32m<ipython-input-41-3e0baa6d7d81>\u001b[0m in \u001b[0;36m<cell line: 0>\u001b[0;34m()\u001b[0m\n\u001b[1;32m      1\u001b[0m \u001b[0;31m# adjust contrast and scale\u001b[0m\u001b[0;34m\u001b[0m\u001b[0;34m\u001b[0m\u001b[0m\n\u001b[1;32m      2\u001b[0m \u001b[0mpixel_filter\u001b[0m \u001b[0;34m=\u001b[0m \u001b[0;36m20\u001b[0m \u001b[0;31m# value from 0 to 100 - may need to adjust this manually\u001b[0m\u001b[0;34m\u001b[0m\u001b[0;34m\u001b[0m\u001b[0m\n\u001b[0;32m----> 3\u001b[0;31m \u001b[0mmin_pixel\u001b[0m \u001b[0;34m=\u001b[0m \u001b[0mnp\u001b[0m\u001b[0;34m.\u001b[0m\u001b[0mpercentile\u001b[0m\u001b[0;34m(\u001b[0m\u001b[0mimage_bw_resized_inverted\u001b[0m\u001b[0;34m,\u001b[0m \u001b[0mpixel_filter\u001b[0m\u001b[0;34m)\u001b[0m\u001b[0;34m\u001b[0m\u001b[0;34m\u001b[0m\u001b[0m\n\u001b[0m\u001b[1;32m      4\u001b[0m \u001b[0mimage_bw_resized_inverted_scaled\u001b[0m \u001b[0;34m=\u001b[0m \u001b[0mnp\u001b[0m\u001b[0;34m.\u001b[0m\u001b[0mclip\u001b[0m\u001b[0;34m(\u001b[0m\u001b[0mimage_bw_resized_inverted\u001b[0m\u001b[0;34m-\u001b[0m\u001b[0mmin_pixel\u001b[0m\u001b[0;34m,\u001b[0m \u001b[0;36m0\u001b[0m\u001b[0;34m,\u001b[0m \u001b[0;36m255\u001b[0m\u001b[0;34m)\u001b[0m\u001b[0;34m\u001b[0m\u001b[0;34m\u001b[0m\u001b[0m\n\u001b[1;32m      5\u001b[0m \u001b[0mmax_pixel\u001b[0m \u001b[0;34m=\u001b[0m \u001b[0mnp\u001b[0m\u001b[0;34m.\u001b[0m\u001b[0mmax\u001b[0m\u001b[0;34m(\u001b[0m\u001b[0mimage_bw_resized_inverted_scaled\u001b[0m\u001b[0;34m)\u001b[0m\u001b[0;34m\u001b[0m\u001b[0;34m\u001b[0m\u001b[0m\n",
            "\u001b[0;31mNameError\u001b[0m: name 'image_bw_resized_inverted' is not defined"
          ]
        }
      ],
      "source": [
        "# adjust contrast and scale\n",
        "pixel_filter = 20 # value from 0 to 100 - may need to adjust this manually\n",
        "min_pixel = np.percentile(image_bw_resized_inverted, pixel_filter)\n",
        "image_bw_resized_inverted_scaled = np.clip(image_bw_resized_inverted-min_pixel, 0, 255)\n",
        "max_pixel = np.max(image_bw_resized_inverted_scaled)\n",
        "image_bw_resized_inverted_scaled = np.asarray(image_bw_resized_inverted_scaled)/max_pixel\n",
        "p = plt.imshow(np.asarray(image_bw_resized_inverted_scaled), cmap=plt.cm.gray,);\n",
        "p = plt.title('Shape: ' + str(np.asarray(image_bw_resized_inverted_scaled).shape))"
      ]
    },
    {
      "cell_type": "code",
      "execution_count": null,
      "metadata": {
        "id": "f4A5nM4r_ePt"
      },
      "outputs": [],
      "source": [
        "# finally, reshape to (1, 784) - 1 sample, 784 features\n",
        "test_sample = np.array(image_bw_resized_inverted_scaled).reshape(1,784)\n",
        "p = plt.imshow(np.reshape(test_sample, (28,28)), cmap=plt.cm.gray,);\n",
        "p = plt.title('Shape: ' + str(test_sample.shape))"
      ]
    },
    {
      "cell_type": "markdown",
      "metadata": {
        "id": "RbLBCsQp_ePu"
      },
      "source": [
        "Make sure the `shape` of your test sample is `(1,784)` (one sample, 784 features)."
      ]
    },
    {
      "cell_type": "markdown",
      "metadata": {
        "id": "RX17yZ-k_ePu"
      },
      "source": [
        "Run the following code to visualize your pre-processed image."
      ]
    },
    {
      "cell_type": "code",
      "execution_count": null,
      "metadata": {
        "id": "voFqsaz9_ePu"
      },
      "outputs": [],
      "source": [
        "p = plt.imshow(np.reshape(test_sample, (28,28)), cmap=plt.cm.gray,);\n",
        "p = plt.title('Shape: ' + str(test_sample.shape))"
      ]
    },
    {
      "cell_type": "markdown",
      "metadata": {
        "id": "QEQ1XThw_ePu"
      },
      "source": [
        "For example:\n",
        "\n",
        "<img src=\"https://i.ibb.co/0rD9Z75/image.png\" alt=\"A handwritten '8' after pre-processing\" width=200/>"
      ]
    },
    {
      "cell_type": "markdown",
      "metadata": {
        "id": "9bbpnwWZ_ePv"
      },
      "source": [
        "Now that you have processed your test image, let us see whether it is classified correctly by the logistic regression."
      ]
    },
    {
      "cell_type": "markdown",
      "metadata": {
        "id": "_C_P09Wg_ePv"
      },
      "source": [
        "Run the following cell. This will use your fitted logistic regression to predict conditional probabilities per class for this test sample, and plot them."
      ]
    },
    {
      "cell_type": "code",
      "execution_count": null,
      "metadata": {
        "id": "NTGifhVA_ePv"
      },
      "outputs": [],
      "source": [
        "test_probs = clf.predict_proba(test_sample)\n",
        "\n",
        "sns.barplot(x=np.arange(0,10), y=test_probs.squeeze());\n",
        "plt.ylabel(\"Probability\");\n",
        "plt.xlabel(\"Class\");"
      ]
    },
    {
      "cell_type": "markdown",
      "metadata": {
        "id": "I8xOPaPK_ePv"
      },
      "source": [
        "For example:\n",
        "\n",
        "<img src=\"https://i.ibb.co/80TzWQv/image.png\" alt=\"Probabilities\" />"
      ]
    },
    {
      "cell_type": "markdown",
      "metadata": {
        "id": "qlEnR4na_ePv"
      },
      "source": [
        "Also run this cell, to show the predicted label for your test sample:"
      ]
    },
    {
      "cell_type": "code",
      "execution_count": null,
      "metadata": {
        "id": "50MGPWU0_ePv"
      },
      "outputs": [],
      "source": []
    },
    {
      "cell_type": "code",
      "execution_count": null,
      "metadata": {
        "id": "IeM4wzEU_ePw"
      },
      "outputs": [],
      "source": [
        "test_pred = clf.predict(test_sample)\n",
        "print(\"Predicted class is: \", test_pred)"
      ]
    },
    {
      "cell_type": "markdown",
      "metadata": {
        "id": "Ot878IT-_ePw"
      },
      "source": [
        "Even if the fitted model correctly labeled your handwritten digit, it may have estimated a moderately high probability for some of the other labels. To understand why, it is useful to visualize\n",
        "\n",
        "$$\\langle w_k, x\\rangle$$\n",
        "\n",
        "for each class $k$.\n",
        "\n",
        "Add a cell with the following code, and run it. This will plot:\n",
        "\n",
        "-   on the top row, the coefficient vector for each class,\n",
        "-   on the bottom row, each pixel in your test image, multiplied by the associated coefficient for that class."
      ]
    },
    {
      "cell_type": "code",
      "execution_count": null,
      "metadata": {
        "id": "rlruQfjU_ePw"
      },
      "outputs": [],
      "source": [
        "scale = np.max(np.abs(clf.coef_))\n",
        "\n",
        "p = plt.figure(figsize=(25, 5));\n",
        "\n",
        "for i in range(nclasses):\n",
        "    p = plt.subplot(2, nclasses, i + 1)\n",
        "    p = plt.imshow(clf.coef_[i].reshape(28, 28),\n",
        "                  cmap=plt.cm.RdBu, vmin=-scale, vmax=scale);\n",
        "    p = plt.title('Class %i' % i);\n",
        "    p = plt.axis('off')\n",
        "\n",
        "for i in range(nclasses):\n",
        "    p = plt.subplot(2, nclasses, nclasses + i + 1)\n",
        "    p = plt.imshow(test_sample.reshape(28, 28)*clf.coef_[i].reshape(28, 28),\n",
        "                  cmap=plt.cm.RdBu, vmin=-scale/2, vmax=scale/2);\n",
        "    # note: you can adjust the scaling factor if necessary,\n",
        "    # to make the visualization easier to understand\n",
        "    p = plt.axis('off')"
      ]
    },
    {
      "cell_type": "markdown",
      "metadata": {
        "id": "Uwxdiq0e_ePw"
      },
      "source": [
        "For example:\n",
        "\n",
        "<img src=\"https://i.ibb.co/MGLkf0T/image.png\" alt=\"A handwritten '8' after pre-processing\"/>"
      ]
    },
    {
      "cell_type": "markdown",
      "metadata": {
        "id": "fEJrbKix_ePx"
      },
      "source": [
        "In the images in the bottom row,\n",
        "\n",
        "-   a blue pixel (and especially a dark blue pixel) means that your test image had writing in the part of the image that is positively associated with belonging to the class, and\n",
        "-   a red pixel (and especially a dark red pixel) means that your test image had writing in the part of the image that is negatively associated with belonging to the class."
      ]
    },
    {
      "cell_type": "markdown",
      "metadata": {
        "id": "dXozZEEL_ePx"
      },
      "source": [
        "The image above should give you an idea of why your digit was classified correctly or incorrectly, and should help you understand when and why the model misclassifies some samples.\n",
        "\n",
        "-   if your image *was* classified correctly: draw a *slightly* modified version of the same digit, that you believe will be classified *incorrectly*. Run this second image through the steps above, and confirm your intuition.\n",
        "-   if your image *was not* classified correctly: draw a *slightly* modified version of the same digit, that you believe will be classified *correctly*. Run this second image through the steps above, and confirm your intuition.\n",
        "\n",
        "(Your second image should still be approximately square, include only the digit and the white background, and have a small margin around the edge of the writing, i.e. it should also “look like” the MNIST samples.)"
      ]
    },
    {
      "cell_type": "markdown",
      "metadata": {
        "id": "DZ6F1Bio_ePx"
      },
      "source": [
        "### Regularization"
      ]
    },
    {
      "cell_type": "markdown",
      "metadata": {
        "id": "z0H3iy8G_ePx"
      },
      "source": [
        "For the handwritten digit recognition task, many of the pixels (especially those near the outer border of the image) are not relevant. We can use L1 regularization to do feature selection, i.e. encourage a zero coefficient for features that are not relevant."
      ]
    },
    {
      "cell_type": "markdown",
      "metadata": {
        "id": "LTYoSH66_ePx"
      },
      "source": [
        "However, the classifier still fits a non-zero coefficient for those pixels. In the following images, any pixel with a zero coefficient is marked in black:"
      ]
    },
    {
      "cell_type": "code",
      "execution_count": null,
      "metadata": {
        "id": "t0ACQPXS_ePy"
      },
      "outputs": [],
      "source": [
        "zeros = np.ma.masked_where(clf.coef_ != 0, clf.coef_)\n",
        "\n",
        "scale = np.max(np.abs(clf.coef_))\n",
        "\n",
        "p = plt.figure(figsize=(25, 3));\n",
        "\n",
        "for i in range(nclasses):\n",
        "    p = plt.subplot(2, nclasses, i + 1)\n",
        "    p = plt.imshow(clf.coef_[i].reshape(28, 28),\n",
        "                  cmap=plt.cm.RdBu, vmin=-scale, vmax=scale);\n",
        "    p = plt.imshow((zeros[i]).reshape(28, 28),\n",
        "                  cmap=plt.cm.gray, vmin=0, vmax=1);\n",
        "    p = plt.title('Class %i' % i);\n",
        "    p = plt.axis('off')\n"
      ]
    },
    {
      "cell_type": "markdown",
      "metadata": {
        "id": "xCYJtZsf_ePy"
      },
      "source": [
        "L1 regularization will encourage more zero coefficients. To fit a logistic regression with regularization, we specify the penalty and the regularization strength.\n",
        "\n",
        "The parameter `C` is actually the *inverse* of the regularization strength, so a small value means stronger regularization and more coefficients zeroed."
      ]
    },
    {
      "cell_type": "code",
      "execution_count": null,
      "metadata": {
        "id": "_2aF6k2__ePy"
      },
      "outputs": [],
      "source": [
        "clf_l1 = LogisticRegression(penalty='l1', C=1,\n",
        "                      tol=0.1, solver='saga',\n",
        "                      multi_class='multinomial').fit(X_train_scaled, y_train)"
      ]
    },
    {
      "cell_type": "markdown",
      "metadata": {
        "id": "RBBaz9IE_ePy"
      },
      "source": [
        "The coefficients for the regularized model are shown in the bottom row below.\n",
        "\n",
        "With the L1 penalty, many more coefficients are zeroed."
      ]
    },
    {
      "cell_type": "code",
      "execution_count": null,
      "metadata": {
        "id": "EFgpwlsj_ePy"
      },
      "outputs": [],
      "source": [
        "\n",
        "zeros = np.ma.masked_where(clf.coef_ != 0, clf.coef_)\n",
        "zeros_l1 = np.ma.masked_where(clf_l1.coef_ != 0, clf.coef_)\n",
        "\n",
        "scale = np.max(np.abs(clf.coef_))\n",
        "\n",
        "p = plt.figure(figsize=(25, 5));\n",
        "\n",
        "for i in range(nclasses):\n",
        "    p = plt.subplot(2, nclasses, i + 1)\n",
        "    p = plt.imshow(clf.coef_[i].reshape(28, 28),\n",
        "                  cmap=plt.cm.RdBu, vmin=-scale, vmax=scale);\n",
        "    p = plt.imshow((zeros[i]).reshape(28, 28),\n",
        "                  cmap=plt.cm.gray, vmin=0, vmax=1);\n",
        "    p = plt.title('Class %i' % i);\n",
        "    p = plt.axis('off')\n",
        "\n",
        "for i in range(nclasses):\n",
        "    p = plt.subplot(2, nclasses, nclasses + i + 1)\n",
        "    p = plt.imshow(clf_l1.coef_[i].reshape(28, 28),\n",
        "                  cmap=plt.cm.RdBu, vmin=-scale, vmax=scale);\n",
        "    p = plt.imshow((zeros_l1[i]).reshape(28, 28),\n",
        "                  cmap=plt.cm.gray, vmin=0, vmax=1);\n",
        "    p = plt.title('Class %i' % i);\n",
        "    p = plt.axis('off')"
      ]
    },
    {
      "cell_type": "markdown",
      "metadata": {
        "id": "zjT01Vlv_ePz"
      },
      "source": [
        "Things to try:\n",
        "\n",
        "-   What happens if you increase C? decrease C?"
      ]
    }
  ],
  "nbformat": 4,
  "nbformat_minor": 0,
  "metadata": {
    "kernelspec": {
      "name": "python3",
      "display_name": "Python 3"
    },
    "colab": {
      "provenance": []
    }
  }
}